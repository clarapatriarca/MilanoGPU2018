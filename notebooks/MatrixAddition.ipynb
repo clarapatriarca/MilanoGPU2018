{
 "cells": [
  {
   "cell_type": "markdown",
   "metadata": {},
   "source": [
    "# License\n",
    "\n",
    "    Jupyter notebook for accessing CUDA\n",
    "    Copyright (C) 2018 Andre.Brodtkorb@ifi.uio.no\n",
    "\n",
    "    This program is free software: you can redistribute it and/or modify\n",
    "    it under the terms of the GNU General Public License as published by\n",
    "    the Free Software Foundation, either version 3 of the License, or\n",
    "    (at your option) any later version.\n",
    "\n",
    "    This program is distributed in the hope that it will be useful,\n",
    "    but WITHOUT ANY WARRANTY; without even the implied warranty of\n",
    "    MERCHANTABILITY or FITNESS FOR A PARTICULAR PURPOSE.  See the\n",
    "    GNU General Public License for more details.\n",
    "\n",
    "    You should have received a copy of the GNU General Public License\n",
    "    along with this program.  If not, see <http://www.gnu.org/licenses/>."
   ]
  },
  {
   "cell_type": "code",
   "execution_count": 1,
   "metadata": {},
   "outputs": [],
   "source": [
    "#Lets have matplotlib \"inline\"\n",
    "%matplotlib inline\n",
    "\n",
    "#Import packages we need\n",
    "import numpy as np\n",
    "import pycuda.compiler as cuda_compiler\n",
    "from pycuda.gpuarray import GPUArray\n",
    "import pycuda.driver as cuda_driver\n",
    "\n",
    "from matplotlib import pyplot as plt"
   ]
  },
  {
   "cell_type": "code",
   "execution_count": 2,
   "metadata": {},
   "outputs": [],
   "source": [
    "#Initialize CUDA - must be first call to CUDA!\n",
    "cuda_driver.init()"
   ]
  },
  {
   "cell_type": "code",
   "execution_count": 3,
   "metadata": {},
   "outputs": [
    {
     "name": "stdout",
     "output_type": "stream",
     "text": [
      "Using 'Tesla K80'\n",
      " => compute capability: (3, 7)\n",
      " => memory: 11370 / 11441 MB available\n"
     ]
    }
   ],
   "source": [
    "#Create CUDA context\n",
    "cuda_device = cuda_driver.Device(0)\n",
    "print(\"Using '{:s}'\".format(cuda_device.name()))\n",
    "print(\" => compute capability: {:s}\".format(str(cuda_device.compute_capability())))\n",
    "context = cuda_device.make_context()\n",
    "free, total = cuda_driver.mem_get_info()\n",
    "print(\" => memory: {:d} / {:d} MB available\".format(int(free/(1024*1024)), int(total/(1024*1024))))"
   ]
  },
  {
   "cell_type": "code",
   "execution_count": 4,
   "metadata": {},
   "outputs": [],
   "source": [
    "cuda_kernel = \"\"\"\n",
    "__global__ void addKernel(float* c, float* a, float* b) {\n",
    "    unsigned int i = blockIdx.x*blockDim.x + threadIdx.x;\n",
    "    c[i] = a[i] + b[i];\n",
    "}\n",
    "\"\"\"\n",
    "module = cuda_compiler.SourceModule(cuda_kernel)\n",
    "kernel = module.get_function(\"addKernel\");"
   ]
  },
  {
   "cell_type": "code",
   "execution_count": 5,
   "metadata": {},
   "outputs": [
    {
     "data": {
      "text/plain": [
       "array([1.2390835 , 1.7316462 , 0.2094824 , 0.992673  , 0.8471042 ,\n",
       "       1.3583531 , 0.3742493 , 1.0234925 , 0.8686055 , 0.99376285,\n",
       "       0.6788165 , 0.27835107, 1.0649819 , 0.81114316, 1.1556437 ,\n",
       "       0.49063978, 0.88705045, 1.5727118 , 1.4581225 , 1.302871  ,\n",
       "       0.87387985, 1.4459764 , 1.7437735 , 1.8215308 , 0.13281313,\n",
       "       0.43110964, 0.7469964 , 1.5784448 , 1.0343983 , 0.8955166 ,\n",
       "       1.0170916 , 1.0971335 , 0.39845616, 0.8001771 , 0.042189  ,\n",
       "       0.48976988, 0.62448823, 0.7748919 , 1.475509  , 0.39548764,\n",
       "       1.0381508 , 1.200038  , 0.6677542 , 1.4069805 , 0.680382  ,\n",
       "       1.4314566 , 1.5966337 , 0.77739644, 1.0071863 , 1.6097723 ],\n",
       "      dtype=float32)"
      ]
     },
     "execution_count": 5,
     "metadata": {},
     "output_type": "execute_result"
    }
   ],
   "source": [
    "#Size of our test\n",
    "n = 50\n",
    "\n",
    "#Create test input / output data\n",
    "a = np.random.rand(n).astype(np.float32)\n",
    "b = np.random.rand(n).astype(np.float32)\n",
    "c = np.empty_like(a)\n",
    "\n",
    "#Upload data to the device\n",
    "a_g = GPUArray(a.shape, np.float32)\n",
    "b_g = GPUArray(b.shape, np.float32)\n",
    "a_g.set(a)\n",
    "b_g.set(b)\n",
    "\n",
    "#Allocate output data\n",
    "c_g = GPUArray(c.shape, np.float32)\n",
    "\n",
    "#Execute program on device\n",
    "kernel(c_g, a_g, b_g, block=(n, 1, 1), grid=(1,1))\n",
    "\n",
    "#Copy data from device to host\n",
    "c_g.get(c)"
   ]
  },
  {
   "cell_type": "code",
   "execution_count": 6,
   "metadata": {},
   "outputs": [
    {
     "name": "stdout",
     "output_type": "stream",
     "text": [
      "C   =  [1.2390835  1.7316462  0.2094824  0.992673   0.8471042  1.3583531\n",
      " 0.3742493  1.0234925  0.8686055  0.99376285 0.6788165  0.27835107\n",
      " 1.0649819  0.81114316 1.1556437  0.49063978 0.88705045 1.5727118\n",
      " 1.4581225  1.302871   0.87387985 1.4459764  1.7437735  1.8215308\n",
      " 0.13281313 0.43110964 0.7469964  1.5784448  1.0343983  0.8955166\n",
      " 1.0170916  1.0971335  0.39845616 0.8001771  0.042189   0.48976988\n",
      " 0.62448823 0.7748919  1.475509   0.39548764 1.0381508  1.200038\n",
      " 0.6677542  1.4069805  0.680382   1.4314566  1.5966337  0.77739644\n",
      " 1.0071863  1.6097723 ]\n",
      "Ref =  [1.2390835  1.7316462  0.2094824  0.992673   0.8471042  1.3583531\n",
      " 0.3742493  1.0234925  0.8686055  0.99376285 0.6788165  0.27835107\n",
      " 1.0649819  0.81114316 1.1556437  0.49063978 0.88705045 1.5727118\n",
      " 1.4581225  1.302871   0.87387985 1.4459764  1.7437735  1.8215308\n",
      " 0.13281313 0.43110964 0.7469964  1.5784448  1.0343983  0.8955166\n",
      " 1.0170916  1.0971335  0.39845616 0.8001771  0.042189   0.48976988\n",
      " 0.62448823 0.7748919  1.475509   0.39548764 1.0381508  1.200038\n",
      " 0.6677542  1.4069805  0.680382   1.4314566  1.5966337  0.77739644\n",
      " 1.0071863  1.6097723 ]\n",
      "Sad =  0.0\n"
     ]
    }
   ],
   "source": [
    "#Compute reference using Numpy\n",
    "c_ref = a + b\n",
    "\n",
    "#Print result\n",
    "print(\"C   = \", c)\n",
    "print(\"Ref = \", c_ref)\n",
    "print(\"Sad = \", np.sum(np.abs(c - c_ref)))"
   ]
  },
  {
   "cell_type": "code",
   "execution_count": 7,
   "metadata": {},
   "outputs": [
    {
     "data": {
      "text/plain": [
       "[<matplotlib.lines.Line2D at 0x7f08db644c50>]"
      ]
     },
     "execution_count": 7,
     "metadata": {},
     "output_type": "execute_result"
    },
    {
     "data": {
      "image/png": "[encoded data removed]",
      "text/plain": [
       "<matplotlib.figure.Figure at 0x7f08db648da0>"
      ]
     },
     "metadata": {
      "needs_background": "light"
     },
     "output_type": "display_data"
    }
   ],
   "source": [
    "plt.figure()\n",
    "plt.plot(c, '+r')\n",
    "plt.plot(c_ref, 'xb')"
   ]
  },
  {
   "cell_type": "code",
   "execution_count": null,
   "metadata": {},
   "outputs": [],
   "source": []
  }
 ],
 "metadata": {
  "kernelspec": {
   "display_name": "Python 3",
   "language": "python",
   "name": "python3"
  },
  "language_info": {
   "codemirror_mode": {
    "name": "ipython",
    "version": 3
   },
   "file_extension": ".py",
   "mimetype": "text/x-python",
   "name": "python",
   "nbconvert_exporter": "python",
   "pygments_lexer": "ipython3",
   "version": "3.6.6"
  }
 },
 "nbformat": 4,
 "nbformat_minor": 2
}
